{
 "cells": [
  {
   "cell_type": "code",
   "execution_count": 2,
   "metadata": {},
   "outputs": [],
   "source": [
    "import pandas as pd\n",
    "import numpy as np\n",
    "import matplotlib.pyplot as mpl\n",
    "import seaborn as sbn\n",
    "import sklearn as skl\n",
    "from ucimlrepo import fetch_ucirepo"
   ]
  },
  {
   "cell_type": "code",
   "execution_count": 11,
   "metadata": {},
   "outputs": [
    {
     "name": "stdout",
     "output_type": "stream",
     "text": [
      "       normalized-losses  num-of-doors  wheel-base      length       width  \\\n",
      "count         164.000000    203.000000  205.000000  205.000000  205.000000   \n",
      "mean          122.000000      3.123153   98.756585  174.049268   65.907805   \n",
      "std            35.442168      0.994841    6.021776   12.337289    2.145204   \n",
      "min            65.000000      2.000000   86.600000  141.100000   60.300000   \n",
      "25%            94.000000      2.000000   94.500000  166.300000   64.100000   \n",
      "50%           115.000000      4.000000   97.000000  173.200000   65.500000   \n",
      "75%           150.000000      4.000000  102.400000  183.100000   66.900000   \n",
      "max           256.000000      4.000000  120.900000  208.100000   72.300000   \n",
      "\n",
      "           height  curb-weight  num-of-cylinders  engine-size        bore  \\\n",
      "count  205.000000   205.000000        205.000000   205.000000  201.000000   \n",
      "mean    53.724878  2555.565854          4.380488   126.907317    3.329751   \n",
      "std      2.443522   520.680204          1.080854    41.642693    0.273539   \n",
      "min     47.800000  1488.000000          2.000000    61.000000    2.540000   \n",
      "25%     52.000000  2145.000000          4.000000    97.000000    3.150000   \n",
      "50%     54.100000  2414.000000          4.000000   120.000000    3.310000   \n",
      "75%     55.500000  2935.000000          4.000000   141.000000    3.590000   \n",
      "max     59.800000  4066.000000         12.000000   326.000000    3.940000   \n",
      "\n",
      "           stroke  compression-ratio  horsepower     peak-rpm    city-mpg  \\\n",
      "count  201.000000         205.000000  203.000000   203.000000  205.000000   \n",
      "mean     3.255423          10.142537  104.256158  5125.369458   25.219512   \n",
      "std      0.316717           3.972040   39.714369   479.334560    6.542142   \n",
      "min      2.070000           7.000000   48.000000  4150.000000   13.000000   \n",
      "25%      3.110000           8.600000   70.000000  4800.000000   19.000000   \n",
      "50%      3.290000           9.000000   95.000000  5200.000000   24.000000   \n",
      "75%      3.410000           9.400000  116.000000  5500.000000   30.000000   \n",
      "max      4.170000          23.000000  288.000000  6600.000000   49.000000   \n",
      "\n",
      "       highway-mpg         price   symboling  \n",
      "count   205.000000    201.000000  205.000000  \n",
      "mean     30.751220  13207.129353    0.834146  \n",
      "std       6.886443   7947.066342    1.245307  \n",
      "min      16.000000   5118.000000   -2.000000  \n",
      "25%      25.000000   7775.000000    0.000000  \n",
      "50%      30.000000  10295.000000    1.000000  \n",
      "75%      34.000000  16500.000000    2.000000  \n",
      "max      54.000000  45400.000000    3.000000  \n"
     ]
    }
   ],
   "source": [
    "automobile = fetch_ucirepo(id=10)\n",
    "data = automobile.data.original\n",
    "data.replace('dohcv','dohc')\n",
    "new_colum_num_of_doors = data['num-of-doors'].replace('',4.0)\n",
    "data['num-of-doors'] = new_colum_num_of_doors\n",
    "data.dropna()\n",
    "print(data.describe())\n",
    "data['normalized-losses'] = data['normalized-losses'].replace('',data['normalized-losses'].mean())"
   ]
  }
 ],
 "metadata": {
  "kernelspec": {
   "display_name": "Python 3",
   "language": "python",
   "name": "python3"
  },
  "language_info": {
   "codemirror_mode": {
    "name": "ipython",
    "version": 3
   },
   "file_extension": ".py",
   "mimetype": "text/x-python",
   "name": "python",
   "nbconvert_exporter": "python",
   "pygments_lexer": "ipython3",
   "version": "3.12.5"
  }
 },
 "nbformat": 4,
 "nbformat_minor": 2
}
