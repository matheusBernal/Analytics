{
 "cells": [
  {
   "cell_type": "code",
   "execution_count": 2,
   "metadata": {},
   "outputs": [],
   "source": [
    "import pandas as pd\n",
    "import numpy as np\n",
    "import matplotlib.pyplot as mpl\n",
    "import seaborn as sbn\n",
    "import sklearn as skl\n",
    "from ucimlrepo import fetch_ucirepo"
   ]
  },
  {
   "cell_type": "code",
   "execution_count": 4,
   "metadata": {},
   "outputs": [
    {
     "name": "stdout",
     "output_type": "stream",
     "text": [
      "     normalized-losses         make fuel-type aspiration  num-of-doors  \\\n",
      "0                  NaN  alfa-romero       gas        std           2.0   \n",
      "1                  NaN  alfa-romero       gas        std           2.0   \n",
      "2                  NaN  alfa-romero       gas        std           2.0   \n",
      "3                164.0         audi       gas        std           4.0   \n",
      "4                164.0         audi       gas        std           4.0   \n",
      "..                 ...          ...       ...        ...           ...   \n",
      "200               95.0        volvo       gas        std           4.0   \n",
      "201               95.0        volvo       gas      turbo           4.0   \n",
      "202               95.0        volvo       gas        std           4.0   \n",
      "203               95.0        volvo    diesel      turbo           4.0   \n",
      "204               95.0        volvo       gas      turbo           4.0   \n",
      "\n",
      "      body-style drive-wheels engine-location  wheel-base  length  ...  \\\n",
      "0    convertible          rwd           front        88.6   168.8  ...   \n",
      "1    convertible          rwd           front        88.6   168.8  ...   \n",
      "2      hatchback          rwd           front        94.5   171.2  ...   \n",
      "3          sedan          fwd           front        99.8   176.6  ...   \n",
      "4          sedan          4wd           front        99.4   176.6  ...   \n",
      "..           ...          ...             ...         ...     ...  ...   \n",
      "200        sedan          rwd           front       109.1   188.8  ...   \n",
      "201        sedan          rwd           front       109.1   188.8  ...   \n",
      "202        sedan          rwd           front       109.1   188.8  ...   \n",
      "203        sedan          rwd           front       109.1   188.8  ...   \n",
      "204        sedan          rwd           front       109.1   188.8  ...   \n",
      "\n",
      "     fuel-system  bore  stroke compression-ratio  horsepower  peak-rpm  \\\n",
      "0           mpfi  3.47    2.68               9.0       111.0    5000.0   \n",
      "1           mpfi  3.47    2.68               9.0       111.0    5000.0   \n",
      "2           mpfi  2.68    3.47               9.0       154.0    5000.0   \n",
      "3           mpfi  3.19    3.40              10.0       102.0    5500.0   \n",
      "4           mpfi  3.19    3.40               8.0       115.0    5500.0   \n",
      "..           ...   ...     ...               ...         ...       ...   \n",
      "200         mpfi  3.78    3.15               9.5       114.0    5400.0   \n",
      "201         mpfi  3.78    3.15               8.7       160.0    5300.0   \n",
      "202         mpfi  3.58    2.87               8.8       134.0    5500.0   \n",
      "203          idi  3.01    3.40              23.0       106.0    4800.0   \n",
      "204         mpfi  3.78    3.15               9.5       114.0    5400.0   \n",
      "\n",
      "    city-mpg  highway-mpg    price  symboling  \n",
      "0         21           27  13495.0          3  \n",
      "1         21           27  16500.0          3  \n",
      "2         19           26  16500.0          1  \n",
      "3         24           30  13950.0          2  \n",
      "4         18           22  17450.0          2  \n",
      "..       ...          ...      ...        ...  \n",
      "200       23           28  16845.0         -1  \n",
      "201       19           25  19045.0         -1  \n",
      "202       18           23  21485.0         -1  \n",
      "203       26           27  22470.0         -1  \n",
      "204       19           25  22625.0         -1  \n",
      "\n",
      "[205 rows x 26 columns]\n"
     ]
    }
   ],
   "source": [
    "automobile = fetch_ucirepo(id=10)\n",
    "data = automobile.data.original\n",
    "print(data)"
   ]
  }
 ],
 "metadata": {
  "kernelspec": {
   "display_name": "Python 3",
   "language": "python",
   "name": "python3"
  },
  "language_info": {
   "codemirror_mode": {
    "name": "ipython",
    "version": 3
   },
   "file_extension": ".py",
   "mimetype": "text/x-python",
   "name": "python",
   "nbconvert_exporter": "python",
   "pygments_lexer": "ipython3",
   "version": "3.12.5"
  }
 },
 "nbformat": 4,
 "nbformat_minor": 2
}
